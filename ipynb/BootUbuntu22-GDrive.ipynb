{
  "nbformat": 4,
  "nbformat_minor": 0,
  "metadata": {
    "colab": {
      "provenance": [],
      "authorship_tag": "ABX9TyOX07dOKiEtYv8e/9xX4OXL"
    },
    "kernelspec": {
      "name": "python3",
      "display_name": "Python 3"
    },
    "language_info": {
      "name": "python"
    }
  },
  "cells": [
    {
      "cell_type": "markdown",
      "source": [
        "<p align=\"center\">\n",
        "  <img style=\"display: block; margin-left: auto; margin-right: auto;\" src=\"https://raw.githubusercontent.com/rdpmakers/freeroot-KVM/refs/heads/main/ipynb/images.jpeg\" alt=\"\" width=\"170\" height=\"170\" />\n",
        "</p>\n",
        "\n",
        "<h1 style=\"text-align: center;\">\n",
        "  <span style=\"color: #00ffff;\">Boot Ubuntu 22 in Colab</span>\n",
        "</h1>\n",
        "<hr />\n",
        "<h5 style=\"text-align: center;\">\n",
        "  <span style=\"color: #99ccff; font-weight: lighter;\">Made by <a href=\"github.com/rdpmakers\">rdpmakers</a></span>\n",
        "</h5>\n",
        "\n",
        "<h2 style=\"text-align: center;\">\n",
        "  <span style=\"color: #FFFFFF;\">Boot Ubuntu 22 Server On Google Colab for Free</span>\n",
        "</h2>\n",
        "<a href=\"https://github.com/rdpmakers/freeroot-KVM/tree/main/ipynb\" target=\"_parent\"><img src=\"https://gist.githubusercontent.com/cxmeel/0dbc95191f239b631c3874f4ccf114e2/raw/bb4634715f95ebb209b4e0bcdd4d2d98fe64c64c/github_source.svg\" align=\"right\" alt=\"Documentation\" width=\"120\"></a>\n",
        "<a href=\"#scrollTo=9kjFtao1x6wa\" target=\"_parent\"><img src=\"https://gist.githubusercontent.com/cxmeel/0dbc95191f239b631c3874f4ccf114e2/raw/bb4634715f95ebb209b4e0bcdd4d2d98fe64c64c/docs.svg\" align=\"right\" alt=\"Documentation\" width=\"120\"></a>\n",
        "<!-- Badges: https://ileriayo.github.io/markdown-badges/ -->"
      ],
      "metadata": {
        "id": "yPnq3mCjwqNq"
      }
    },
    {
      "cell_type": "markdown",
      "source": [
        "\n",
        ">[Setup](#scrollTo=EMvUQ8aaAVLv)\n",
        "\n",
        ">[VM Menu](#scrollTo=P5n2qhjDHkix)\n",
        "\n",
        ">[SSH Menu](#scrollTo=oL8dsQ6sHmnj)\n",
        "\n",
        ">[See logs](#scrollTo=4x_9gyU5HrFq)\n",
        "\n",
        ">[Shutdown](#scrollTo=1MUnVjjCtdIf)"
      ],
      "metadata": {
        "id": "9kjFtao1x6wa"
      }
    },
    {
      "cell_type": "code",
      "execution_count": null,
      "metadata": {
        "id": "EMvUQ8aaAVLv",
        "cellView": "form"
      },
      "outputs": [],
      "source": [
        "# @markdown ##**[❗]  Setup (Required)** {display-mode: \"form\"}\n",
        "# @markdown Takes long time + 10GB Google Account Storage for fresh install\n",
        "# Mount Google Drive to access storage\n",
        "from google.colab import drive\n",
        "import os\n",
        "from IPython.display import clear_output\n",
        "clear_output(wait=True)\n",
        "# Warning message about storage usage\n",
        "warning_message = \"\"\"\n",
        "Warning: This process will take up to 10GB of your Google Drive storage.\n",
        "This will create the 'Ubuntu22-10G' directory and download the necessary files.\n",
        "\n",
        "Do you want to continue? (y/n)\n",
        "\"\"\"\n",
        "\n",
        "# Print the warning message\n",
        "print(warning_message)\n",
        "\n",
        "# Get user confirmation to proceed\n",
        "confirm = input(\"Type 'y' to proceed or 'n' to cancel: \").strip().lower()\n",
        "\n",
        "if confirm != 'y':\n",
        "    print(\"Setup aborted. You can restart the process later.\")\n",
        "else:\n",
        "    # Mount Google Drive to access storage\n",
        "    drive.mount('/content/drive')\n",
        "\n",
        "    # Directory for the QCOW2 image and other files\n",
        "    target_dir = '/content/drive/MyDrive/Ubuntu22-10G'\n",
        "    os.makedirs(target_dir, exist_ok=True)\n",
        "\n",
        "    # Change to the target directory\n",
        "    os.chdir(target_dir)\n",
        "\n",
        "    # Install necessary packages for QEMU\n",
        "    print(\"Installing QEMU and other required packages...\")\n",
        "    !export DEBIAN_FRONTEND=noninteractive && apt-get update -y && apt-get install -y wget qemu qemu-utils qemu-system-x86\n",
        "\n",
        "    # Check if the QCOW2 image already exists\n",
        "    if os.path.exists('ubuntu-22.qcow2'):\n",
        "        clear_output(wait=True)\n",
        "        print(\"ubuntu-22.qcow2 already exists. You can proceed to boot it with the second cell.\")\n",
        "    else:\n",
        "        # Download the required Ubuntu QCOW2 image\n",
        "        print(\"Downloading and setting up the Ubuntu QCOW2 image and other necessary files...\")\n",
        "        !wget --tries=50 --timeout=2 --no-hsts -O ubuntu-22.qcow2 https://cloud-images.ubuntu.com/minimal/releases/jammy/release/ubuntu-22.04-minimal-cloudimg-amd64.img\n",
        "\n",
        "        # Download additional required files\n",
        "        !wget --tries=50 --timeout=2 --no-hsts -O user-data https://raw.githubusercontent.com/rdpmakers/freeroot-KVM/refs/heads/main/user-data\n",
        "        !wget --tries=50 --timeout=2 --no-hsts -O user-data.img https://github.com/rdpmakers/freeroot-KVM/raw/refs/heads/main/user-data.img\n",
        "\n",
        "        # Resize the QCOW2 image to increase disk space (+8GB, total size will be 10GB)\n",
        "        !qemu-img resize ubuntu-22.qcow2 +8G\n",
        "        !touch .installed\n",
        "        clear_output(wait=True)\n",
        "        !echo \"You can boot the Ubuntu now\""
      ]
    },
    {
      "cell_type": "markdown",
      "source": [
        "# 🖥️ **VM Actions**"
      ],
      "metadata": {
        "id": "P5n2qhjDHkix"
      }
    },
    {
      "cell_type": "code",
      "source": [
        "# @markdown ##**[❗]  Boot** {display-mode: \"form\"}\n",
        "# Cell 2: \"Boot it up\"\n",
        "\n",
        "# Check if the necessary files exist before booting\n",
        "import os\n",
        "from IPython.display import clear_output\n",
        "clear_output(wait=True)\n",
        "timeformat = subprocess.run('date +\"%Y-%m-%d_%Z-%H:%M:%S\"', shell=True, capture_output=True, text=True).stdout.strip()\n",
        "qemulog = f\"{timeformat}.qemu-vm.log\"\n",
        "target_dir = '/content/drive/MyDrive/Ubuntu22-10G'\n",
        "qcow2_file = os.path.join(target_dir, 'ubuntu-22.qcow2')\n",
        "qemucmd = f'nohup qemu-system-x86_64 -drive file=ubuntu-22.qcow2,format=qcow2 -drive file=user-data.img,format=raw \\\n",
        "-device virtio-net-pci,netdev=n0 -netdev user,id=n0,hostfwd=tcp::2222-:22,hostfwd=udp::2222-:22 \\\n",
        "-smp $(nproc) -m $(awk \\'/MemAvailable/ {{print int($2/1024/1024)\"G\"}}\\' /proc/meminfo) \\\n",
        "-accel tcg -cpu qemu64 -nographic &> {qemulog} &'\n",
        "\n",
        "# Warning message if the setup is incomplete\n",
        "if not os.path.exists(target_dir):\n",
        "    print(\"Warning: The QEMU directory 'Ubuntu22-10G' does not exist.\")\n",
        "    print(\"Please execute the first cell to set up the environment.\")\n",
        "elif not os.path.exists(qcow2_file):\n",
        "    print(f\"Warning: The file '{qcow2_file}' does not exist.\")\n",
        "    print(\"Please execute the first cell to download and set up the image.\")\n",
        "else:\n",
        "    # Proceed with booting the QCOW2 image if everything is set up\n",
        "    print(\"Booting the Ubuntu QCOW2 image with QEMU...\")\n",
        "    !touch .kvm-log.available\n",
        "    !{qemucmd}\n",
        "    #!echo Executing command as following:\n",
        "    #print(qemucmd)\n",
        "    !echo Log history time: {timeformat}\n",
        "    !echo Log file in Google Drive: {qemulog}\n",
        "    !echo \"Wait for ~2 minutes but ~10 minutes for fresh install, then you can setup then generate SSH\""
      ],
      "metadata": {
        "id": "7Etl0UPRAqan",
        "cellView": "form"
      },
      "execution_count": null,
      "outputs": []
    },
    {
      "cell_type": "code",
      "source": [
        "# @markdown ##**[❗] Shutdown** {display-mode: \"form\"}\n",
        "from IPython.display import clear_output\n",
        "import os\n",
        "target_dir = '/content/drive/MyDrive/Ubuntu22-10G'\n",
        "os_file = os.path.join(target_dir, 'ubuntu-22.qcow2')\n",
        "clear_output(wait=True)\n",
        "# Warning message if the setup is incomplete\n",
        "if not os.path.exists(os_file):\n",
        "  !echo \"Make sure you've setup the VM\"\n",
        "else:\n",
        "  !rm cfd.log wst.log .kvm-running > /dev/null 2>&1\n",
        "  !apt install sshpass -y > /dev/null 2>&1\n",
        "  clear_output(wait=True)\n",
        "  !sshpass -p asdfqwer ssh -o StrictHostKeyChecking=no -p2222 ubuntu@localhost sudo poweroff\n",
        "  !ps aux | grep cloudflared | grep -v grep | awk '{print $2}' | xargs kill -9 > /dev/null 2>&1\n",
        "  !ps aux | grep wstunnel | grep -v grep | awk '{print $2}' | xargs kill -9 > /dev/null 2>&1\n",
        "  !sleep 0.5\n",
        "  clear_output(wait=True)\n",
        "  !echo \"your server has shutdowned properly\""
      ],
      "metadata": {
        "cellView": "form",
        "id": "1MUnVjjCtdIf"
      },
      "execution_count": null,
      "outputs": []
    },
    {
      "cell_type": "markdown",
      "source": [
        "# ☁️💻 **SSH Actions**"
      ],
      "metadata": {
        "id": "oL8dsQ6sHmnj"
      }
    },
    {
      "cell_type": "code",
      "source": [
        "\n",
        "# @markdown ##**[❗] Setup SSH** {display-mode: \"form\"}\n",
        "from IPython.display import clear_output\n",
        "import os\n",
        "target_dir = '/content/drive/MyDrive/Ubuntu22-10G'\n",
        "os_file = os.path.join(target_dir, 'ubuntu-22.qcow2')\n",
        "cfd_file = os.path.join(target_dir, 'cfd.log')\n",
        "clear_output(wait=True)\n",
        "# Warning message if the setup is incomplete\n",
        "if not os.path.exists(os_file):\n",
        "  !echo \"Make sure you've setup the VM\"\n",
        "else:\n",
        "  if not os.path.exists(cfd_file):\n",
        "    if not os.path.exists(\"/tmp/ssh.installed\"):\n",
        "      !wget -O /usr/local/bin/cloudflared $(curl -s https://api.github.com/repos/cloudflare/cloudflared/releases/latest | grep -o \"https://github.com/cloudflare/cloudflared/releases/download/.*/cloudflared-linux-amd64\")\n",
        "      !chmod +x /usr/local/bin/cloudflared\n",
        "      !curl -L -o /tmp/wstunnel.tar.gz $(curl -s https://api.github.com/repos/erebe/wstunnel/releases/latest | grep -o \"https://github.com/erebe/wstunnel/releases/download/.*/wstunnel_.*_linux_amd64.tar.gz\") && tar -zxvf /tmp/wstunnel.tar.gz && chmod +x wstunnel && sudo mv wstunnel /usr/local/bin/ && rm README.md LICENSE /tmp/wstunnel.tar.gz\n",
        "      clear_output(wait=True)\n",
        "      !touch /tmp/ssh.installed\n",
        "      !echo \"ignore the error, you're ok\"\n",
        "      !sleep 0.5\n",
        "      !nohup /usr/local/bin/wstunnel server ws://localhost:80 --restrict-to localhost:2222 > wst.log &\n",
        "      !nohup /usr/local/bin/cloudflared tunnel --url http://localhost:80 > cfd.log &\n",
        "      !disown\n",
        "      clear_output(wait=True)\n",
        "      !echo \"you can execute generate ssh now\"\n",
        "    else:\n",
        "      clear_output(wait=True)\n",
        "      !echo \"ignore the error, you're ok\"\n",
        "      !sleep 0.5\n",
        "      !nohup /usr/local/bin/wstunnel server ws://localhost:80 --restrict-to localhost:2222 > wst.log &\n",
        "      !nohup /usr/local/bin/cloudflared tunnel --url http://localhost:80 > cfd.log &\n",
        "      !disown\n",
        "      clear_output(wait=True)\n",
        "      !echo \"you can execute generate ssh now\"\n",
        "  else:\n",
        "    !echo \"Your SSH is already running\""
      ],
      "metadata": {
        "cellView": "form",
        "id": "vqmsrf6cUGpz"
      },
      "execution_count": null,
      "outputs": []
    },
    {
      "cell_type": "code",
      "source": [
        "# @markdown ##**[❗] Generate SSH** {display-mode: \"form\"}\n",
        "# @markdown Install wstunnel binary on client, [download](https://github.com/erebe/wstunnel)\n",
        "from IPython.display import clear_output\n",
        "clear_output(wait=True)\n",
        "import os\n",
        "target_dir = '/content/drive/MyDrive/Ubuntu22-10G'\n",
        "cfd_file = os.path.join(target_dir, 'cfd.log')\n",
        "clear_output(wait=True)\n",
        "# Warning message if the setup is incomplete\n",
        "if not os.path.exists(cfd_file):\n",
        "  !echo \"Make sure your VM is running and have setup the SSH\"\n",
        "else:\n",
        "  !sleep 5\n",
        "  !echo \"execute on client: wstunnel client -L tcp://9999:localhost:2222 $(grep -oP 'https://[^\\s]*trycloudflare\\.com' cfd.log | sed 's/^https:/ws:/')\"\n",
        "  !echo \"to ssh on client: ssh ubuntu@localhost -p9999\"\n",
        "  !echo \"ssh pass: asdfqwer\""
      ],
      "metadata": {
        "cellView": "form",
        "id": "kUo0_aAmOPQF"
      },
      "execution_count": null,
      "outputs": []
    },
    {
      "cell_type": "code",
      "source": [
        "# @markdown ##**[❗] Reset SSH** {display-mode: \"form\"}\n",
        "from IPython.display import clear_output\n",
        "clear_output(wait=True)\n",
        "import os\n",
        "target_dir = '/content/drive/MyDrive/Ubuntu22-10G'\n",
        "cfd_file = os.path.join(target_dir, 'cfd.log')\n",
        "clear_output(wait=True)\n",
        "# Warning message if the setup is incomplete\n",
        "if not os.path.exists(cfd_file):\n",
        "  !echo \"Make sure your VM is running and have setup ssh\"\n",
        "else:\n",
        "  !ps aux | grep cloudflared | grep -v grep | awk '{print $2}' | xargs kill -9\n",
        "  !ps aux | grep wstunnel | grep -v grep | awk '{print $2}' | xargs kill -9\n",
        "  !rm cfd.log wst.log\n",
        "  clear_output(wait=True)\n",
        "  !echo \"you can setup and generate ssh again\""
      ],
      "metadata": {
        "cellView": "form",
        "id": "bZymL3uEo1QQ"
      },
      "execution_count": null,
      "outputs": []
    },
    {
      "cell_type": "markdown",
      "source": [
        "# 📋 **Logfile Actions**\n",
        "---"
      ],
      "metadata": {
        "id": "4x_9gyU5HrFq"
      }
    },
    {
      "cell_type": "code",
      "source": [
        "# @markdown ##**[❗] See wstunnel log** {display-mode: \"form\"}\n",
        "from IPython.display import clear_output\n",
        "import os\n",
        "mode = \"normal\" # @param [\"normal\", \"live\"]\n",
        "wsmode = mode\n",
        "target_dir = '/content/drive/MyDrive/Ubuntu22-10G'\n",
        "wst_file = os.path.join(target_dir, 'wst.log')\n",
        "clear_output(wait=True)\n",
        "# Warning message if the setup is incomplete\n",
        "if not os.path.exists(wst_file):\n",
        "  !echo \"Make sure you've setup the VM and have running SSH\"\n",
        "else:\n",
        "  if wsmode == \"normal\":\n",
        "    !cat wst.log\n",
        "  else:\n",
        "    !tail -f wst.log"
      ],
      "metadata": {
        "cellView": "form",
        "id": "4Ox2xXtbo8VV"
      },
      "execution_count": null,
      "outputs": []
    },
    {
      "cell_type": "code",
      "source": [
        "# @markdown ##**[❗] See cloudflared log** {display-mode: \"form\"}\n",
        "from IPython.display import clear_output\n",
        "import os\n",
        "mode = \"normal\" # @param [\"normal\", \"live\"]\n",
        "cfmode = mode\n",
        "target_dir = '/content/drive/MyDrive/Ubuntu22-10G'\n",
        "cfd_file = os.path.join(target_dir, 'cfd.log')\n",
        "clear_output(wait=True)\n",
        "# Warning message if the setup is incomplete\n",
        "if not os.path.exists(cfd_file):\n",
        "  !echo \"Make sure you've setup the VM and have running SSH\"\n",
        "else:\n",
        "  if cfmode == \"normal\":\n",
        "    !cat cfd.log\n",
        "  else:\n",
        "    !tail -f cfd.log"
      ],
      "metadata": {
        "cellView": "form",
        "id": "sgYqLb_Wp_s8"
      },
      "execution_count": null,
      "outputs": []
    },
    {
      "cell_type": "code",
      "source": [
        "# @markdown ##**[❗] See VM log** {display-mode: \"form\"}\n",
        "from IPython.display import clear_output\n",
        "clear_output(wait=True)\n",
        "import os\n",
        "mode = \"normal\" # @param [\"normal\", \"live\"]\n",
        "vmmode = mode\n",
        "log-history = \"INSERT VM HISTORY TIME\"  # @param {type:\"string\"}\n",
        "loghistory = log-history\n",
        "file = f\"{loghistory}.qemu-vm.log\"\n",
        "target_dir = '/content/drive/MyDrive/Ubuntu22-10G'\n",
        "qemu_file = os.path.join(target_dir, 'qemu-vm.log')\n",
        "clear_output(wait=True)\n",
        "# Warning message if the setup is incomplete\n",
        "if not os.path.exists(qemu_file):\n",
        "  !echo \"Make sure you've setup the VM and have first run of the VM\"\n",
        "else:\n",
        "  if vmmode == \"normal\":\n",
        "    !cat {file}\n",
        "  else:\n",
        "    !tail -f {file}"
      ],
      "metadata": {
        "cellView": "form",
        "id": "b8g_pckysPDD"
      },
      "execution_count": null,
      "outputs": []
    },
    {
      "cell_type": "code",
      "source": [
        "# @markdown ##**[❗] list VM history log files** {display-mode: \"form\"}\n",
        "from IPython.display import clear_output\n",
        "clear_output(wait=True)\n",
        "import os\n",
        "target_dir = '/content/drive/MyDrive/Ubuntu22-10G'\n",
        "kvm_file = os.path.join(target_dir, '.kvm-log.available')\n",
        "clear_output(wait=True)\n",
        "# Warning message if the setup is incomplete\n",
        "if not os.path.exists(kvm_file):\n",
        "  !echo \"Make sure you've setup the VM and have first run of the VM\"\n",
        "else:\n",
        "  !printf \"Timezone:$(date +%Z)\\n\\n\"\n",
        "  !ls -1 *.qemu-vm.log | sed 's/\\.qemu-vm.log$//'"
      ],
      "metadata": {
        "cellView": "form",
        "id": "rktS6qZy05bX"
      },
      "execution_count": null,
      "outputs": []
    }
  ]
}